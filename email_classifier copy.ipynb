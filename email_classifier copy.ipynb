{
 "cells": [
  {
   "cell_type": "code",
   "execution_count": 59,
   "metadata": {},
   "outputs": [],
   "source": [
    "#Importing Libraries\n",
    "import numpy as np\n",
    "import pandas as pd\n",
    "import matplotlib.pyplot as plt\n",
    "import seaborn as sns\n",
    "import random\n",
    "\n",
    "import tensorflow as tf\n",
    "from tensorflow.keras.preprocessing.sequence import pad_sequences\n",
    "\n",
    "from sklearn.metrics import confusion_matrix\n",
    "\n",
    "from preprocess import (\n",
    "    lowerColumnsNames,\n",
    "    textSeriesProcessing,\n",
    "    labelProcessing,\n",
    ")\n",
    "\n",
    "import warnings\n",
    "warnings.filterwarnings(\"ignore\")"
   ]
  },
  {
   "cell_type": "markdown",
   "metadata": {},
   "source": [
    "## Importing Data"
   ]
  },
  {
   "cell_type": "code",
   "execution_count": 2,
   "metadata": {},
   "outputs": [
    {
     "name": "stdout",
     "output_type": "stream",
     "text": [
      "Training data\n",
      "                                        Message_body     Label\n",
      "0                         Rofl. Its true to its name  Non-Spam\n",
      "1  The guy did some bitching but I acted like i'd...  Non-Spam\n",
      "2  Pity, * was in mood for that. So...any other s...  Non-Spam\n",
      "3               Will ü b going to esplanade fr home?  Non-Spam\n",
      "4  This is the 2nd time we have tried 2 contact u...      Spam\n",
      "Testing Data\n",
      "                                        Message_body Label\n",
      "0  UpgrdCentre Orange customer, you may now claim...  Spam\n",
      "1  Loan for any purpose £500 - £75,000. Homeowner...  Spam\n",
      "2  Congrats! Nokia 3650 video camera phone is you...  Spam\n",
      "3  URGENT! Your Mobile number has been awarded wi...  Spam\n",
      "4  Someone has contacted our dating service and e...  Spam\n"
     ]
    }
   ],
   "source": [
    "#Loading Data\n",
    "train_data = pd.read_csv('data_train.csv', encoding=\"latin1\").iloc[:, 1:]\n",
    "test_data  = pd.read_csv('data_test.csv', encoding=\"latin1\").iloc[:, 1:]\n",
    "\n",
    "print('Training data')\n",
    "print(train_data.head())\n",
    "print('Testing Data')\n",
    "print(test_data.head())"
   ]
  },
  {
   "cell_type": "markdown",
   "metadata": {},
   "source": [
    "## Data Preprocess"
   ]
  },
  {
   "cell_type": "code",
   "execution_count": 3,
   "metadata": {},
   "outputs": [],
   "source": [
    "#Changing df columns names\n",
    "train_data = lowerColumnsNames(train_data)\n",
    "test_data  = lowerColumnsNames(test_data)"
   ]
  },
  {
   "cell_type": "code",
   "execution_count": 4,
   "metadata": {},
   "outputs": [
    {
     "name": "stdout",
     "output_type": "stream",
     "text": [
      "guy bitching acted like id interested buying something else next week gave us free\n",
      "loan purpose £500  £75000 homeowners  tenants welcome previously refused still help call free 0800 1956669 text back help\n"
     ]
    }
   ],
   "source": [
    "#Splitting data in input and output\n",
    "training_messages = train_data['message_body']\n",
    "training_labels = train_data['label']\n",
    "\n",
    "testing_messages = test_data['message_body']\n",
    "testing_labels = test_data['label']\n",
    "\n",
    "#Processing message_body (lowercase, remove url and punctuation, stop words, etc.)\n",
    "training_messages = textSeriesProcessing(training_messages)\n",
    "testing_messages  = textSeriesProcessing(testing_messages)\n",
    "\n",
    "print(training_messages[1])\n",
    "print(testing_messages[1])"
   ]
  },
  {
   "cell_type": "code",
   "execution_count": 5,
   "metadata": {},
   "outputs": [
    {
     "name": "stdout",
     "output_type": "stream",
     "text": [
      "Trainin One Hot Encoder matrix \n",
      "\n",
      "[[1. 0.]\n",
      " [1. 0.]\n",
      " [1. 0.]\n",
      " [1. 0.]\n",
      " [0. 1.]]\n"
     ]
    }
   ],
   "source": [
    "#Processing labels (output)\n",
    "training_label_hot, training_label_encoder = labelProcessing(training_labels)\n",
    "testing_label_hot, testing_label_encoder = labelProcessing(testing_labels)\n",
    "\n",
    "print(\"Trainin One Hot Encoder matrix \\n\")\n",
    "print(training_label_hot[:5])"
   ]
  },
  {
   "cell_type": "code",
   "execution_count": 10,
   "metadata": {},
   "outputs": [
    {
     "name": "stdout",
     "output_type": "stream",
     "text": [
      "guy bitching acted like id interested buying something else next week gave us free\n",
      "[207, 1129, 673, 14, 179, 488, 372, 127, 208, 90, 38, 373, 71, 10]\n"
     ]
    }
   ],
   "source": [
    "trunc_type = 'post'\n",
    "padding_type = 'post'\n",
    "oov_tok = '<OOV>'\n",
    "\n",
    "vocab_size = 10000\n",
    "max_length = 32\n",
    "embedding_dim = 16\n",
    "tokenizer = tf.keras.preprocessing.text.Tokenizer(num_words=vocab_size, oov_token=oov_tok)\n",
    "\n",
    "tokenizer.fit_on_texts(training_messages)\n",
    "\n",
    "training_sequences = tokenizer.texts_to_sequences(training_messages)\n",
    "testing_sequences  = tokenizer.texts_to_sequences(testing_messages)\n",
    "\n",
    "print(training_messages[1])\n",
    "print(training_sequences[1])"
   ]
  },
  {
   "cell_type": "code",
   "execution_count": 14,
   "metadata": {},
   "outputs": [
    {
     "name": "stdout",
     "output_type": "stream",
     "text": [
      "guy bitching acted like id interested buying something else next week gave us free\n",
      "[ 207 1129  673   14  179  488  372  127  208   90   38  373   71   10\n",
      "    0    0    0    0    0    0    0    0    0    0    0    0    0    0\n",
      "    0    0    0    0]\n"
     ]
    }
   ],
   "source": [
    "training_padded = pad_sequences(training_sequences, maxlen=max_length, padding = padding_type, \n",
    "                                truncating= trunc_type)\n",
    "\n",
    "testing_padded = pad_sequences(testing_sequences, maxlen=max_length, padding = padding_type, \n",
    "                                truncating= trunc_type)\n",
    "\n",
    "print(training_messages[1])\n",
    "print(training_padded[1])"
   ]
  },
  {
   "cell_type": "markdown",
   "metadata": {},
   "source": [
    "## Data Description"
   ]
  },
  {
   "cell_type": "code",
   "execution_count": 57,
   "metadata": {},
   "outputs": [
    {
     "data": {
      "text/html": [
       "<div>\n",
       "<style scoped>\n",
       "    .dataframe tbody tr th:only-of-type {\n",
       "        vertical-align: middle;\n",
       "    }\n",
       "\n",
       "    .dataframe tbody tr th {\n",
       "        vertical-align: top;\n",
       "    }\n",
       "\n",
       "    .dataframe thead th {\n",
       "        text-align: right;\n",
       "    }\n",
       "</style>\n",
       "<table border=\"1\" class=\"dataframe\">\n",
       "  <thead>\n",
       "    <tr style=\"text-align: right;\">\n",
       "      <th></th>\n",
       "      <th>message_body</th>\n",
       "      <th>label</th>\n",
       "    </tr>\n",
       "  </thead>\n",
       "  <tbody>\n",
       "    <tr>\n",
       "      <th>count</th>\n",
       "      <td>957</td>\n",
       "      <td>957</td>\n",
       "    </tr>\n",
       "    <tr>\n",
       "      <th>unique</th>\n",
       "      <td>945</td>\n",
       "      <td>2</td>\n",
       "    </tr>\n",
       "    <tr>\n",
       "      <th>top</th>\n",
       "      <td>Sorry, I'll call later</td>\n",
       "      <td>Non-Spam</td>\n",
       "    </tr>\n",
       "    <tr>\n",
       "      <th>freq</th>\n",
       "      <td>4</td>\n",
       "      <td>835</td>\n",
       "    </tr>\n",
       "  </tbody>\n",
       "</table>\n",
       "</div>"
      ],
      "text/plain": [
       "                  message_body     label\n",
       "count                      957       957\n",
       "unique                     945         2\n",
       "top     Sorry, I'll call later  Non-Spam\n",
       "freq                         4       835"
      ]
     },
     "execution_count": 57,
     "metadata": {},
     "output_type": "execute_result"
    }
   ],
   "source": [
    "train_data.describe()"
   ]
  },
  {
   "cell_type": "code",
   "execution_count": 58,
   "metadata": {},
   "outputs": [
    {
     "data": {
      "text/html": [
       "<div>\n",
       "<style scoped>\n",
       "    .dataframe tbody tr th:only-of-type {\n",
       "        vertical-align: middle;\n",
       "    }\n",
       "\n",
       "    .dataframe tbody tr th {\n",
       "        vertical-align: top;\n",
       "    }\n",
       "\n",
       "    .dataframe thead th {\n",
       "        text-align: right;\n",
       "    }\n",
       "</style>\n",
       "<table border=\"1\" class=\"dataframe\">\n",
       "  <thead>\n",
       "    <tr style=\"text-align: right;\">\n",
       "      <th></th>\n",
       "      <th>message_body</th>\n",
       "      <th>label</th>\n",
       "    </tr>\n",
       "  </thead>\n",
       "  <tbody>\n",
       "  </tbody>\n",
       "</table>\n",
       "</div>"
      ],
      "text/plain": [
       "Empty DataFrame\n",
       "Columns: [message_body, label]\n",
       "Index: []"
      ]
     },
     "execution_count": 58,
     "metadata": {},
     "output_type": "execute_result"
    }
   ],
   "source": [
    "train_data[train_data['message_body'].isnull()]"
   ]
  },
  {
   "cell_type": "markdown",
   "metadata": {},
   "source": [
    "## Building the model"
   ]
  },
  {
   "cell_type": "code",
   "execution_count": 16,
   "metadata": {},
   "outputs": [
    {
     "name": "stdout",
     "output_type": "stream",
     "text": [
      "Model: \"sequential_1\"\n",
      "_________________________________________________________________\n",
      " Layer (type)                Output Shape              Param #   \n",
      "=================================================================\n",
      " embedding_1 (Embedding)     (None, 32, 16)            160000    \n",
      "                                                                 \n",
      " global_average_pooling1d_1   (None, 16)               0         \n",
      " (GlobalAveragePooling1D)                                        \n",
      "                                                                 \n",
      " dense_2 (Dense)             (None, 1024)              17408     \n",
      "                                                                 \n",
      " dropout_1 (Dropout)         (None, 1024)              0         \n",
      "                                                                 \n",
      " dense_3 (Dense)             (None, 1)                 1025      \n",
      "                                                                 \n",
      "=================================================================\n",
      "Total params: 178,433\n",
      "Trainable params: 178,433\n",
      "Non-trainable params: 0\n",
      "_________________________________________________________________\n"
     ]
    }
   ],
   "source": [
    "#Model Architecture\n",
    "num_classes = 2\n",
    "model = tf.keras.Sequential([\n",
    "    tf.keras.layers.Embedding(vocab_size, embedding_dim, input_length=max_length),\n",
    "    tf.keras.layers.GlobalAveragePooling1D(),\n",
    "    tf.keras.layers.Dense(1024, activation='relu'),\n",
    "    tf.keras.layers.Dropout(0.4),\n",
    "    tf.keras.layers.Dense(1, activation='sigmoid')\n",
    "])\n",
    "\n",
    "model.summary()"
   ]
  },
  {
   "cell_type": "code",
   "execution_count": 17,
   "metadata": {},
   "outputs": [],
   "source": [
    "#Compiling the model\n",
    "model.compile(loss = 'binary_crossentropy', optimizer= 'adam', metrics = ['accuracy'])"
   ]
  },
  {
   "cell_type": "code",
   "execution_count": 18,
   "metadata": {},
   "outputs": [
    {
     "name": "stdout",
     "output_type": "stream",
     "text": [
      "Epoch 1/10\n",
      "27/27 - 2s - loss: 0.5623 - accuracy: 0.8711 - val_loss: 0.3936 - val_accuracy: 0.8854 - 2s/epoch - 66ms/step\n",
      "Epoch 2/10\n",
      "27/27 - 0s - loss: 0.3515 - accuracy: 0.8711 - val_loss: 0.3032 - val_accuracy: 0.8854 - 144ms/epoch - 5ms/step\n",
      "Epoch 3/10\n",
      "27/27 - 0s - loss: 0.3021 - accuracy: 0.8711 - val_loss: 0.2760 - val_accuracy: 0.8854 - 119ms/epoch - 4ms/step\n",
      "Epoch 4/10\n",
      "27/27 - 0s - loss: 0.2572 - accuracy: 0.8711 - val_loss: 0.2376 - val_accuracy: 0.8854 - 142ms/epoch - 5ms/step\n",
      "Epoch 5/10\n",
      "27/27 - 0s - loss: 0.1946 - accuracy: 0.9048 - val_loss: 0.1861 - val_accuracy: 0.9062 - 151ms/epoch - 6ms/step\n",
      "Epoch 6/10\n",
      "27/27 - 0s - loss: 0.1318 - accuracy: 0.9535 - val_loss: 0.1367 - val_accuracy: 0.9479 - 145ms/epoch - 5ms/step\n",
      "Epoch 7/10\n",
      "27/27 - 0s - loss: 0.0806 - accuracy: 0.9803 - val_loss: 0.1040 - val_accuracy: 0.9479 - 121ms/epoch - 4ms/step\n",
      "Epoch 8/10\n",
      "27/27 - 0s - loss: 0.0482 - accuracy: 0.9884 - val_loss: 0.0800 - val_accuracy: 0.9479 - 122ms/epoch - 5ms/step\n",
      "Epoch 9/10\n",
      "27/27 - 0s - loss: 0.0294 - accuracy: 0.9919 - val_loss: 0.0636 - val_accuracy: 0.9792 - 110ms/epoch - 4ms/step\n",
      "Epoch 10/10\n",
      "27/27 - 0s - loss: 0.0198 - accuracy: 0.9954 - val_loss: 0.0558 - val_accuracy: 0.9792 - 141ms/epoch - 5ms/step\n"
     ]
    }
   ],
   "source": [
    "#Training the model\n",
    "num_epochs = 10\n",
    "history = model.fit(training_padded, training_label_encoder, epochs= num_epochs, verbose= 2,\n",
    "                    validation_split=0.10)"
   ]
  },
  {
   "cell_type": "code",
   "execution_count": 19,
   "metadata": {},
   "outputs": [
    {
     "data": {
      "image/png": "[encoded data removed]",
      "text/plain": [
       "<Figure size 640x480 with 1 Axes>"
      ]
     },
     "metadata": {},
     "output_type": "display_data"
    },
    {
     "data": {
      "image/png": "[encoded data removed]",
      "text/plain": [
       "<Figure size 640x480 with 1 Axes>"
      ]
     },
     "metadata": {},
     "output_type": "display_data"
    }
   ],
   "source": [
    "def plot_graphs(history, string):\n",
    "  plt.plot(history.history[string])\n",
    "  plt.plot(history.history['val_'+string])\n",
    "  plt.xlabel(\"Epochs\")\n",
    "  plt.ylabel(string)\n",
    "  plt.legend([string, 'val_'+string])\n",
    "  plt.show()\n",
    "  \n",
    "# Plot the accuracy and loss\n",
    "plot_graphs(history, \"accuracy\")\n",
    "plot_graphs(history, \"loss\")"
   ]
  },
  {
   "cell_type": "markdown",
   "metadata": {},
   "source": [
    "## Testing the model"
   ]
  },
  {
   "cell_type": "code",
   "execution_count": 20,
   "metadata": {},
   "outputs": [
    {
     "name": "stdout",
     "output_type": "stream",
     "text": [
      "4/4 [==============================] - 0s 3ms/step - loss: 0.2334 - accuracy: 0.9120\n",
      "Test Loss: 0.2334410697221756\n",
      "Test Accuracy: 0.9120000004768372\n"
     ]
    }
   ],
   "source": [
    "test_loss, test_accuracy = model.evaluate(testing_padded, testing_label_encoder)\n",
    "print(f'Test Loss: {test_loss}')\n",
    "print(f'Test Accuracy: {test_accuracy}')"
   ]
  },
  {
   "cell_type": "code",
   "execution_count": 49,
   "metadata": {},
   "outputs": [
    {
     "name": "stdout",
     "output_type": "stream",
     "text": [
      "4/4 [==============================] - 0s 3ms/step\n",
      "[[0.97752464]\n",
      " [0.9227468 ]\n",
      " [0.9885512 ]\n",
      " [0.99101514]\n",
      " [0.51820236]\n",
      " [0.96275413]\n",
      " [0.9326044 ]\n",
      " [0.30982533]\n",
      " [0.99153066]\n",
      " [0.9888991 ]]\n"
     ]
    }
   ],
   "source": [
    "predictions = model.predict(testing_padded[:100])\n",
    "print(predictions[:10])"
   ]
  },
  {
   "cell_type": "code",
   "execution_count": 50,
   "metadata": {},
   "outputs": [],
   "source": [
    "pred = list(map(lambda x: 1 if x>= 0.5 else 0, predictions))"
   ]
  },
  {
   "cell_type": "code",
   "execution_count": 53,
   "metadata": {},
   "outputs": [
    {
     "data": {
      "image/png": "[encoded data removed]",
      "text/plain": [
       "<Figure size 600x500 with 2 Axes>"
      ]
     },
     "metadata": {},
     "output_type": "display_data"
    }
   ],
   "source": [
    "cm = confusion_matrix(list(testing_label_encoder[:100]), pred)\n",
    "\n",
    "# Visualize the confusion matrix using a heatmap\n",
    "plt.figure(figsize=(6, 5))\n",
    "sns.heatmap(cm, annot=True, fmt='d', cmap='Blues', xticklabels=['No Spam', 'Spam'], yticklabels=['No Spam', 'Spam'])\n",
    "plt.xlabel('Predicted')\n",
    "plt.ylabel('True')\n",
    "plt.title('Confusion Matrix')\n",
    "plt.show()"
   ]
  },
  {
   "cell_type": "markdown",
   "metadata": {},
   "source": [
    "## Demo"
   ]
  },
  {
   "cell_type": "code",
   "execution_count": 85,
   "metadata": {},
   "outputs": [],
   "source": [
    "def spamDemo(message : pd.Series) -> str :\n",
    "\n",
    "    message_processed = textSeriesProcessing(message)\n",
    "    message_sequence = tokenizer.texts_to_sequences(message_processed)\n",
    "    message_padded = pad_sequences(message_sequence, maxlen=max_length, padding = padding_type, \n",
    "                                    truncating= trunc_type)\n",
    "\n",
    "    message_prediction = model.predict(message_padded)[0][0]\n",
    "\n",
    "    if message_prediction > 0.5:\n",
    "        return \"The message received is a Spam\"\n",
    "    else:\n",
    "        return \"The message received is not a Spam\"\n"
   ]
  },
  {
   "cell_type": "code",
   "execution_count": 90,
   "metadata": {},
   "outputs": [
    {
     "name": "stdout",
     "output_type": "stream",
     "text": [
      "1/1 [==============================] - 0s 69ms/step\n",
      "Congratulations ur awarded 500 of CD vouchers or 125gift guaranteed & Free entry 2 100 wkly draw txt MUSIC to 87066 TnCs www.Ldew.com1win150ppmx3age16\n",
      "The message received is a Spam\n"
     ]
    }
   ],
   "source": [
    "random_index = random.randint(0, test_data.shape[0])\n",
    "message_text = test_data.iloc[random_index, 0]\n",
    "message = pd.Series(message_text)\n",
    "\n",
    "response = spamDemo(message)\n",
    "print(message_text)\n",
    "print(response)"
   ]
  }
 ],
 "metadata": {
  "kernelspec": {
   "display_name": "base",
   "language": "python",
   "name": "python3"
  },
  "language_info": {
   "codemirror_mode": {
    "name": "ipython",
    "version": 3
   },
   "file_extension": ".py",
   "mimetype": "text/x-python",
   "name": "python",
   "nbconvert_exporter": "python",
   "pygments_lexer": "ipython3",
   "version": "3.10.13"
  }
 },
 "nbformat": 4,
 "nbformat_minor": 2
}
